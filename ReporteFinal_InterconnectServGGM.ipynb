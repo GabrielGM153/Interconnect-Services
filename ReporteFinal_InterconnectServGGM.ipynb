{
 "cells": [
  {
   "cell_type": "markdown",
   "id": "30e6936d",
   "metadata": {},
   "source": [
    "# Proyecto final (Parte III, reporte de resultados)"
   ]
  },
  {
   "cell_type": "markdown",
   "id": "c54caec4",
   "metadata": {},
   "source": [
    "En la parte final de este proyecto, se optó por la construcción de un dashaboard interactivo, en aras de tener la mejor visualización posible de resultados. \n",
    "\n",
    "El link que le corresponde es el siguiente:\n",
    "\n",
    "https://interconnect-servicesdashboard-vghbvwicamwefwhvaalykg.streamlit.app/"
   ]
  },
  {
   "cell_type": "markdown",
   "id": "6b49805d",
   "metadata": {},
   "source": [
    "Dicho dashboard que corresponde a la presentación de resultados de manera ordenada, mantiene la siguente estructura denotada por pestañas de navegación, respectivamente:\n",
    "\n",
    "- Introducción.\n",
    "\n",
    "- Análisis exploratorio.\n",
    "\n",
    "- Parte referente al análisis con regresión logística.\n",
    "\n",
    "- Parte referente al análisis con rando forest.\n",
    "\n",
    "- Comparativa entre modelos.\n",
    "\n",
    "- Conclusiones.\n",
    "\n"
   ]
  },
  {
   "cell_type": "markdown",
   "id": "533cecfe",
   "metadata": {},
   "source": [
    "### Explicación final\n",
    "\n",
    "**¿Qué pasos del plan se realizaron y qué pasos se omitieron (explica por qué)?**\n",
    "\n",
    "Los pasos que se realizaron propiamente fueron la descripción de datos, sin una descripción de datos precisa no se puede llegar a un análisis de regresión o clasificación, ya que no se sabe si los datos están completos y limpios. \n",
    "Posteriormente se realizó una regresión logística y un modelado con el algoritmo de bosque aleatorio, hola esto con la idea de contrastar el desempeño de dichos modelos y que se ve propiamente reflejado en las métricas que les corresponden.\n",
    "Al final se hizo un esbozo de las probabilidades calculadas hice gráfico, para un mejor entendimiento, la probabilidad de permanencia, del cliente, acorde a los modelos.\n",
    "\n",
    "\n",
    "**¿Qué dificultades encontraste y cómo lograste resolverlas?**\n",
    "\n",
    "Entre las dificultades que me encontré en el desarrollo de este proyecto, fue el sobreajuste de ambos modelos, que tuve que replantear (ya que jamás me había pasado un evento de esta naturaleza). La resolución correspondió en el anexo de GridSearchCV, para buscar el mejor modelo.\n",
    "\n",
    "\n",
    "**¿Cuáles fueron algunos de los pasos clave para resolver la tarea?**\n",
    "\n",
    "Buscar en Stack Overflow temáticas de sobreajuste, así como apoyarme en la documentación pertinente.\n",
    "\n",
    "\n",
    "**¿Cuál es tu modelo final y qué nivel de calidad tiene?**\n",
    "\n",
    "La calidad de los modelos es aceptable, ya que se obtuvieron 82% dentro del modelo de regresión logística, en la presición en relación de los clientes que renuevan su contrato frente a un 67% dentro del modelo random forest.\n"
   ]
  }
 ],
 "metadata": {
  "kernelspec": {
   "display_name": "tripleten",
   "language": "python",
   "name": "python3"
  },
  "language_info": {
   "name": "python",
   "version": "3.13.2"
  }
 },
 "nbformat": 4,
 "nbformat_minor": 5
}
